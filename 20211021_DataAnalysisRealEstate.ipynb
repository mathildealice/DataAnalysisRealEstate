{
 "cells": [
  {
   "cell_type": "code",
   "execution_count": 1,
   "metadata": {},
   "outputs": [],
   "source": [
    "import pandas as pd\n",
    "pd.options.mode.chained_assignment = None \n",
    "#https://stackoverflow.com/questions/20625582/how-to-deal-with-settingwithcopywarning-in-pandas\n",
    "import numpy as np\n",
    "import re\n",
    "import matplotlib.pyplot as plt\n",
    "\n",
    "df = pd.read_csv('original_dataset.csv', low_memory = False, dtype = {'locality': str, 'postcode': str, 'property_subtype': str})\n",
    "raw_df = df"
   ]
  },
  {
   "cell_type": "code",
   "execution_count": 2,
   "metadata": {},
   "outputs": [],
   "source": [
    "df = df[['locality', 'postcode', \"property_subtype\", \"price\", \"area\"]]\n",
    "regex = \"[0-9]{4}\"\n",
    "df = df[df.postcode.str.match(regex, na=False)|df.locality.str.match(regex, na=False)]"
   ]
  },
  {
   "cell_type": "code",
   "execution_count": 3,
   "metadata": {},
   "outputs": [],
   "source": [
    "#Extraction of useful data from locality field\n",
    "def extract_address(d): \n",
    "    return re.sub(\"(([A-Za-z0-9àâçéèêëîïôûùüÿñæœ .-]*)(,{0,} {0,})(\\d{4})([A-Za-zàâçéèêëîïôûùüÿñæœ .-]*)(,{0,} {0,})([A-Za-zàâçéèêëîïôûùüÿñæœ .-]*)|([A-ZÂÀÃÉÈÊÛa-zàâçéèêëîïôûùüÿñæœ'\\-\\/ \\(\\)]*)([0-9]{1})|([A-ZÂÀÃÉÈÊÛa-zàâçéèêëîïôûùüÿñæœ&',\\.\\-\\/ \\(\\)]*))\", r'\\2',d)\n",
    "def extract_postcode(d): \n",
    "    return re.sub(\"(([A-Za-z0-9àâçéèêëîïôûùüÿñæœ .-]*)(,{0,} {0,})(\\d{4})([A-Za-zàâçéèêëîïôûùüÿñæœ .-]*)(,{0,} {0,})([A-Za-zàâçéèêëîïôûùüÿñæœ .-]*)|([A-ZÂÀÃÉÈÊÛa-zàâçéèêëîïôûùüÿñæœ'\\-\\/ \\(\\)]*)([0-9]{1})|([A-ZÂÀÃÉÈÊÛa-zàâçéèêëîïôûùüÿñæœ&',\\.\\-\\/ \\(\\)]*))\", r'\\4',d)\n",
    "def extract_locality(d): \n",
    "    return re.sub(\"(([A-Za-z0-9àâçéèêëîïôûùüÿñæœ .-]*)(,{0,} {0,})(\\d{4})([A-Za-zàâçéèêëîïôûùüÿñæœ .-]*)(,{0,} {0,})([A-Za-zàâçéèêëîïôûùüÿñæœ .-]*)|([A-ZÂÀÃÉÈÊÛa-zàâçéèêëîïôûùüÿñæœ'\\-\\/ \\(\\)]*)([0-9]{1})|([A-ZÂÀÃÉÈÊÛa-zàâçéèêëîïôûùüÿñæœ&',\\.\\-\\/ \\(\\)]*))\", r'\\5',d)\n",
    "\n",
    "#df['extracted_address'] = df[~df['locality'].isnull()]['locality'].apply(extract_address)\n",
    "df['extracted_postcode'] = df[~df['locality'].isnull()]['locality'].apply(extract_postcode)\n",
    "#df['extracted_locality'] = df[~df['locality'].isnull()]['locality'].apply(extract_locality)"
   ]
  },
  {
   "cell_type": "code",
   "execution_count": 4,
   "metadata": {},
   "outputs": [],
   "source": [
    "df['merged_postcode'] = df['postcode'].replace(np.nan, '') + df['extracted_postcode'].replace(np.nan, '')\n",
    "def unmerge_postcode(d): \n",
    "    return re.sub(\"(\\d{4}){0,1}(\\d{4})$\", r'\\2', d)\n",
    "df['unmerged_postcode'] = df[~df['merged_postcode'].isnull()]['merged_postcode'].apply(unmerge_postcode)"
   ]
  },
  {
   "cell_type": "code",
   "execution_count": 5,
   "metadata": {},
   "outputs": [
    {
     "data": {
      "text/html": [
       "<div>\n",
       "<style scoped>\n",
       "    .dataframe tbody tr th:only-of-type {\n",
       "        vertical-align: middle;\n",
       "    }\n",
       "\n",
       "    .dataframe tbody tr th {\n",
       "        vertical-align: top;\n",
       "    }\n",
       "\n",
       "    .dataframe thead th {\n",
       "        text-align: right;\n",
       "    }\n",
       "</style>\n",
       "<table border=\"1\" class=\"dataframe\">\n",
       "  <thead>\n",
       "    <tr style=\"text-align: right;\">\n",
       "      <th></th>\n",
       "      <th>locality</th>\n",
       "      <th>postcode</th>\n",
       "      <th>property_subtype</th>\n",
       "      <th>price</th>\n",
       "      <th>area</th>\n",
       "      <th>extracted_postcode</th>\n",
       "      <th>merged_postcode</th>\n",
       "      <th>unmerged_postcode</th>\n",
       "    </tr>\n",
       "  </thead>\n",
       "  <tbody>\n",
       "    <tr>\n",
       "      <th>65926</th>\n",
       "      <td>§S Gravenwezel, Schilde</td>\n",
       "      <td>2970</td>\n",
       "      <td>VILLA</td>\n",
       "      <td>1250000.0</td>\n",
       "      <td>446.0</td>\n",
       "      <td>§</td>\n",
       "      <td>2970§</td>\n",
       "      <td>2970§</td>\n",
       "    </tr>\n",
       "    <tr>\n",
       "      <th>66678</th>\n",
       "      <td>Court-Saint-©tienne</td>\n",
       "      <td>1490</td>\n",
       "      <td>HOUSE</td>\n",
       "      <td>399000.0</td>\n",
       "      <td>165.0</td>\n",
       "      <td>©</td>\n",
       "      <td>1490©</td>\n",
       "      <td>1490©</td>\n",
       "    </tr>\n",
       "  </tbody>\n",
       "</table>\n",
       "</div>"
      ],
      "text/plain": [
       "                      locality postcode property_subtype      price   area  \\\n",
       "65926  §S Gravenwezel, Schilde     2970            VILLA  1250000.0  446.0   \n",
       "66678      Court-Saint-©tienne     1490            HOUSE   399000.0  165.0   \n",
       "\n",
       "      extracted_postcode merged_postcode unmerged_postcode  \n",
       "65926                  §           2970§             2970§  \n",
       "66678                  ©           1490©             1490©  "
      ]
     },
     "execution_count": 5,
     "metadata": {},
     "output_type": "execute_result"
    }
   ],
   "source": [
    "regex = '^\\d{4}$'\n",
    "df[~df.unmerged_postcode.str.match(regex, na = False)]"
   ]
  },
  {
   "cell_type": "code",
   "execution_count": 6,
   "metadata": {},
   "outputs": [],
   "source": [
    "regex = '^\\d{4}$'\n",
    "df = df.drop(df[~df.unmerged_postcode.str.match(regex, na = False)].index)"
   ]
  },
  {
   "cell_type": "code",
   "execution_count": 7,
   "metadata": {},
   "outputs": [],
   "source": [
    "df = df.drop(['locality', 'postcode', 'extracted_postcode', 'merged_postcode'], axis=1, errors='ignore')"
   ]
  },
  {
   "cell_type": "code",
   "execution_count": 8,
   "metadata": {},
   "outputs": [],
   "source": [
    "regex = '^(10|11|12)\\d{2}$'\n",
    "df = df.drop(df[~df.unmerged_postcode.str.match(regex, na = False)].index)"
   ]
  },
  {
   "cell_type": "code",
   "execution_count": 9,
   "metadata": {},
   "outputs": [],
   "source": [
    "df['property_subtype']=np.where(df.property_subtype.str.match('[A-Za-zàâçéèêëîïôûùüÿñæœ]*'),df['property_subtype'].str.upper(),np.nan)"
   ]
  },
  {
   "cell_type": "code",
   "execution_count": 10,
   "metadata": {},
   "outputs": [],
   "source": [
    "df = df.drop(df[df['price'].isnull()].index)\n",
    "df = df.drop(df[df['area'].isnull()].index)\n",
    "df = df.drop(df[df['price'] == 'None'].index)\n",
    "df = df.drop(df[df['price'] == '@0'].index)\n",
    "df = df.drop(df[df['area'] == 'None'].index)\n",
    "df = df.drop(df[df['area'] == 'Not specified'].index)"
   ]
  },
  {
   "cell_type": "code",
   "execution_count": 11,
   "metadata": {},
   "outputs": [],
   "source": [
    "def clean_price(d): \n",
    "    return re.sub(\"^(€{0,})(([0-9\\,\\.])+)(€{0,})$\", r'\\2',d)\n",
    "df['price'] = df['price'].apply(clean_price)"
   ]
  },
  {
   "cell_type": "code",
   "execution_count": 12,
   "metadata": {},
   "outputs": [],
   "source": [
    "def clean_weird_price(d): \n",
    "    return re.sub(\"^(([0-9\\,\\.])+)(€{1} {1})(([0-9\\,\\.])+)$\", r'\\1',d)\n",
    "df['price'] = df['price'].apply(clean_weird_price)"
   ]
  },
  {
   "cell_type": "code",
   "execution_count": 13,
   "metadata": {},
   "outputs": [],
   "source": [
    "def clean_point(d): \n",
    "    return re.sub('^(([0-9])+)([\\.]{1})([0]{1})$', r'\\1', d)\n",
    "df['price'] = df['price'].apply(clean_point)"
   ]
  },
  {
   "cell_type": "code",
   "execution_count": 14,
   "metadata": {},
   "outputs": [],
   "source": [
    "def clean_comma(d): \n",
    "    return re.sub('^(([0-9]){0,2})([\\,]{0,})(([0-9])+)([\\,]{1})(([0-9])+)$', r'\\1\\3\\5', d)\n",
    "df['price'] = df['price'].apply(clean_comma)"
   ]
  },
  {
   "cell_type": "code",
   "execution_count": 15,
   "metadata": {},
   "outputs": [],
   "source": [
    "def clean_zero(d): \n",
    "    return re.sub('^(([0-9])+)([\\,]{1})$', r'\\1000', d)\n",
    "df['price'] = df['price'].apply(clean_zero)"
   ]
  },
  {
   "cell_type": "code",
   "execution_count": 16,
   "metadata": {},
   "outputs": [],
   "source": [
    "def clean_million(d): \n",
    "    return re.sub('^(([0-9]){1})([\\,]{1})(([0-9]){1})$', r'\\1\\300000', d)\n",
    "df['price'] = df['price'].apply(clean_million)"
   ]
  },
  {
   "cell_type": "code",
   "execution_count": 17,
   "metadata": {},
   "outputs": [],
   "source": [
    "def clean_area(d): \n",
    "    return re.sub('^([0-9]+)( {0,}m{0,}²{0,})', r'\\1',d)\n",
    "df['area'] = df['area'].apply(clean_area)"
   ]
  },
  {
   "cell_type": "code",
   "execution_count": 18,
   "metadata": {},
   "outputs": [],
   "source": [
    "df = df.drop(df[df['price'] == '1À000'].index)\n",
    "df = df.drop(df[df['price'] == '2À000'].index)\n",
    "df = df.drop(df[df['price'] == '3À000'].index)"
   ]
  },
  {
   "cell_type": "code",
   "execution_count": 19,
   "metadata": {},
   "outputs": [],
   "source": [
    "df = df.drop(df[df['price'] == '23456789'].index)"
   ]
  },
  {
   "cell_type": "code",
   "execution_count": 20,
   "metadata": {},
   "outputs": [],
   "source": [
    "df['price'] = pd.to_numeric(df['price'])\n",
    "df['area'] = pd.to_numeric(df['area'])"
   ]
  },
  {
   "cell_type": "code",
   "execution_count": 21,
   "metadata": {},
   "outputs": [],
   "source": [
    "df = df.drop(df[df['area']>600].index)"
   ]
  },
  {
   "cell_type": "code",
   "execution_count": 22,
   "metadata": {},
   "outputs": [
    {
     "data": {
      "text/plain": [
       "<matplotlib.axes._subplots.AxesSubplot at 0x2814771e048>"
      ]
     },
     "execution_count": 22,
     "metadata": {},
     "output_type": "execute_result"
    },
    {
     "data": {
      "image/png": "[encoded data removed]",
      "text/plain": [
       "<Figure size 432x288 with 1 Axes>"
      ]
     },
     "metadata": {
      "needs_background": "light"
     },
     "output_type": "display_data"
    }
   ],
   "source": [
    "df.plot.scatter(x = 'area', y = 'price')"
   ]
  },
  {
   "cell_type": "code",
   "execution_count": 23,
   "metadata": {},
   "outputs": [
    {
     "data": {
      "text/plain": [
       "['1000',\n",
       " '1020',\n",
       " '1030',\n",
       " '1040',\n",
       " '1044',\n",
       " '1050',\n",
       " '1060',\n",
       " '1070',\n",
       " '1080',\n",
       " '1081',\n",
       " '1082',\n",
       " '1083',\n",
       " '1090',\n",
       " '1120',\n",
       " '1130',\n",
       " '1140',\n",
       " '1150',\n",
       " '1160',\n",
       " '1170',\n",
       " '1180',\n",
       " '1190',\n",
       " '1200',\n",
       " '1210',\n",
       " '1212']"
      ]
     },
     "execution_count": 23,
     "metadata": {},
     "output_type": "execute_result"
    }
   ],
   "source": [
    "sorted(df['unmerged_postcode'].unique())"
   ]
  },
  {
   "cell_type": "code",
   "execution_count": 24,
   "metadata": {},
   "outputs": [
    {
     "data": {
      "text/html": [
       "<div>\n",
       "<style scoped>\n",
       "    .dataframe tbody tr th:only-of-type {\n",
       "        vertical-align: middle;\n",
       "    }\n",
       "\n",
       "    .dataframe tbody tr th {\n",
       "        vertical-align: top;\n",
       "    }\n",
       "\n",
       "    .dataframe thead th {\n",
       "        text-align: right;\n",
       "    }\n",
       "</style>\n",
       "<table border=\"1\" class=\"dataframe\">\n",
       "  <thead>\n",
       "    <tr style=\"text-align: right;\">\n",
       "      <th></th>\n",
       "      <th>property_subtype</th>\n",
       "      <th>price</th>\n",
       "      <th>area</th>\n",
       "      <th>unmerged_postcode</th>\n",
       "    </tr>\n",
       "  </thead>\n",
       "  <tbody>\n",
       "    <tr>\n",
       "      <th>91534</th>\n",
       "      <td>NaN</td>\n",
       "      <td>335000</td>\n",
       "      <td>89.0</td>\n",
       "      <td>1212</td>\n",
       "    </tr>\n",
       "  </tbody>\n",
       "</table>\n",
       "</div>"
      ],
      "text/plain": [
       "      property_subtype   price  area unmerged_postcode\n",
       "91534              NaN  335000  89.0              1212"
      ]
     },
     "execution_count": 24,
     "metadata": {},
     "output_type": "execute_result"
    }
   ],
   "source": [
    "df[df['unmerged_postcode']=='1212']"
   ]
  },
  {
   "cell_type": "code",
   "execution_count": 25,
   "metadata": {},
   "outputs": [],
   "source": [
    "df = df.drop(df[df['unmerged_postcode'] == '1212'].index)\n",
    "df = df.drop(df[df['unmerged_postcode'] == '1044'].index)"
   ]
  },
  {
   "cell_type": "code",
   "execution_count": 26,
   "metadata": {},
   "outputs": [
    {
     "data": {
      "text/html": [
       "<div>\n",
       "<style scoped>\n",
       "    .dataframe tbody tr th:only-of-type {\n",
       "        vertical-align: middle;\n",
       "    }\n",
       "\n",
       "    .dataframe tbody tr th {\n",
       "        vertical-align: top;\n",
       "    }\n",
       "\n",
       "    .dataframe thead th {\n",
       "        text-align: right;\n",
       "    }\n",
       "</style>\n",
       "<table border=\"1\" class=\"dataframe\">\n",
       "  <thead>\n",
       "    <tr style=\"text-align: right;\">\n",
       "      <th></th>\n",
       "      <th>property_subtype</th>\n",
       "      <th>price</th>\n",
       "      <th>area</th>\n",
       "      <th>unmerged_postcode</th>\n",
       "    </tr>\n",
       "  </thead>\n",
       "  <tbody>\n",
       "    <tr>\n",
       "      <th>3</th>\n",
       "      <td>HOUSE</td>\n",
       "      <td>545000</td>\n",
       "      <td>235.0</td>\n",
       "      <td>1200</td>\n",
       "    </tr>\n",
       "    <tr>\n",
       "      <th>4</th>\n",
       "      <td>MIXED_USE_BUILDING</td>\n",
       "      <td>500000</td>\n",
       "      <td>220.0</td>\n",
       "      <td>1190</td>\n",
       "    </tr>\n",
       "    <tr>\n",
       "      <th>7</th>\n",
       "      <td>APARTMENT_BLOCK</td>\n",
       "      <td>650000</td>\n",
       "      <td>200.0</td>\n",
       "      <td>1150</td>\n",
       "    </tr>\n",
       "    <tr>\n",
       "      <th>11</th>\n",
       "      <td>APARTMENT_BLOCK</td>\n",
       "      <td>399000</td>\n",
       "      <td>137.0</td>\n",
       "      <td>1030</td>\n",
       "    </tr>\n",
       "    <tr>\n",
       "      <th>14</th>\n",
       "      <td>APARTMENT_BLOCK</td>\n",
       "      <td>1750000</td>\n",
       "      <td>550.0</td>\n",
       "      <td>1200</td>\n",
       "    </tr>\n",
       "  </tbody>\n",
       "</table>\n",
       "</div>"
      ],
      "text/plain": [
       "      property_subtype    price   area unmerged_postcode\n",
       "3                HOUSE   545000  235.0              1200\n",
       "4   MIXED_USE_BUILDING   500000  220.0              1190\n",
       "7      APARTMENT_BLOCK   650000  200.0              1150\n",
       "11     APARTMENT_BLOCK   399000  137.0              1030\n",
       "14     APARTMENT_BLOCK  1750000  550.0              1200"
      ]
     },
     "execution_count": 26,
     "metadata": {},
     "output_type": "execute_result"
    }
   ],
   "source": [
    "df.head()"
   ]
  },
  {
   "cell_type": "code",
   "execution_count": 27,
   "metadata": {},
   "outputs": [],
   "source": [
    "df_pc = pd.read_csv('postcodes.csv')"
   ]
  },
  {
   "cell_type": "code",
   "execution_count": 28,
   "metadata": {},
   "outputs": [],
   "source": [
    "#type(df['unmerged_postcode'][2])\n",
    "#NOT WORKING\n",
    "#type(df_pc['postcode'][1]) \n",
    "#WORKING"
   ]
  },
  {
   "cell_type": "code",
   "execution_count": 29,
   "metadata": {},
   "outputs": [],
   "source": [
    "df['unmerged_postcode'] = pd.to_numeric(df['unmerged_postcode'])\n",
    "df = df.set_index('unmerged_postcode').join(df_pc.set_index('postcode'))"
   ]
  },
  {
   "cell_type": "code",
   "execution_count": 30,
   "metadata": {},
   "outputs": [
    {
     "data": {
      "text/plain": [
       "<matplotlib.axes._subplots.AxesSubplot at 0x28147e6e240>"
      ]
     },
     "execution_count": 30,
     "metadata": {},
     "output_type": "execute_result"
    },
    {
     "data": {
      "image/png": "[encoded data removed]",
      "text/plain": [
       "<Figure size 432x288 with 1 Axes>"
      ]
     },
     "metadata": {
      "needs_background": "light"
     },
     "output_type": "display_data"
    }
   ],
   "source": [
    "df.plot.scatter(x = 'longitude', y = 'price')"
   ]
  },
  {
   "cell_type": "code",
   "execution_count": 31,
   "metadata": {},
   "outputs": [
    {
     "data": {
      "text/plain": [
       "<matplotlib.axes._subplots.AxesSubplot at 0x28147e61320>"
      ]
     },
     "execution_count": 31,
     "metadata": {},
     "output_type": "execute_result"
    },
    {
     "data": {
      "image/png": "[encoded data removed]",
      "text/plain": [
       "<Figure size 432x288 with 1 Axes>"
      ]
     },
     "metadata": {
      "needs_background": "light"
     },
     "output_type": "display_data"
    }
   ],
   "source": [
    "df.plot.scatter(x = 'latitude', y = 'price')"
   ]
  },
  {
   "cell_type": "code",
   "execution_count": 32,
   "metadata": {},
   "outputs": [
    {
     "data": {
      "text/plain": [
       "<matplotlib.axes._subplots.AxesSubplot at 0x28147b64b00>"
      ]
     },
     "execution_count": 32,
     "metadata": {},
     "output_type": "execute_result"
    },
    {
     "data": {
      "image/png": "[encoded data removed]",
      "text/plain": [
       "<Figure size 432x288 with 1 Axes>"
      ]
     },
     "metadata": {
      "needs_background": "light"
     },
     "output_type": "display_data"
    }
   ],
   "source": [
    "df.plot.scatter(x = 'latitude', y = 'longitude')"
   ]
  },
  {
   "cell_type": "code",
   "execution_count": 33,
   "metadata": {},
   "outputs": [],
   "source": [
    "df_backup = df"
   ]
  },
  {
   "cell_type": "code",
   "execution_count": 34,
   "metadata": {},
   "outputs": [
    {
     "data": {
      "text/html": [
       "<div>\n",
       "<style scoped>\n",
       "    .dataframe tbody tr th:only-of-type {\n",
       "        vertical-align: middle;\n",
       "    }\n",
       "\n",
       "    .dataframe tbody tr th {\n",
       "        vertical-align: top;\n",
       "    }\n",
       "\n",
       "    .dataframe thead th {\n",
       "        text-align: right;\n",
       "    }\n",
       "</style>\n",
       "<table border=\"1\" class=\"dataframe\">\n",
       "  <thead>\n",
       "    <tr style=\"text-align: right;\">\n",
       "      <th></th>\n",
       "      <th>property_subtype</th>\n",
       "      <th>price</th>\n",
       "      <th>area</th>\n",
       "      <th>locality</th>\n",
       "      <th>longitude</th>\n",
       "      <th>latitude</th>\n",
       "    </tr>\n",
       "  </thead>\n",
       "  <tbody>\n",
       "    <tr>\n",
       "      <th>1000</th>\n",
       "      <td>MIXED_USE_BUILDING</td>\n",
       "      <td>1395000</td>\n",
       "      <td>568.0</td>\n",
       "      <td>Bruxelles</td>\n",
       "      <td>4.351697</td>\n",
       "      <td>50.846557</td>\n",
       "    </tr>\n",
       "    <tr>\n",
       "      <th>1000</th>\n",
       "      <td>MIXED_USE_BUILDING</td>\n",
       "      <td>1475000</td>\n",
       "      <td>260.0</td>\n",
       "      <td>Bruxelles</td>\n",
       "      <td>4.351697</td>\n",
       "      <td>50.846557</td>\n",
       "    </tr>\n",
       "    <tr>\n",
       "      <th>1000</th>\n",
       "      <td>MIXED_USE_BUILDING</td>\n",
       "      <td>1600000</td>\n",
       "      <td>300.0</td>\n",
       "      <td>Bruxelles</td>\n",
       "      <td>4.351697</td>\n",
       "      <td>50.846557</td>\n",
       "    </tr>\n",
       "    <tr>\n",
       "      <th>1000</th>\n",
       "      <td>APARTMENT_BLOCK</td>\n",
       "      <td>1350000</td>\n",
       "      <td>400.0</td>\n",
       "      <td>Bruxelles</td>\n",
       "      <td>4.351697</td>\n",
       "      <td>50.846557</td>\n",
       "    </tr>\n",
       "    <tr>\n",
       "      <th>1000</th>\n",
       "      <td>MIXED_USE_BUILDING</td>\n",
       "      <td>1500000</td>\n",
       "      <td>521.0</td>\n",
       "      <td>Bruxelles</td>\n",
       "      <td>4.351697</td>\n",
       "      <td>50.846557</td>\n",
       "    </tr>\n",
       "  </tbody>\n",
       "</table>\n",
       "</div>"
      ],
      "text/plain": [
       "        property_subtype    price   area   locality  longitude   latitude\n",
       "1000  MIXED_USE_BUILDING  1395000  568.0  Bruxelles   4.351697  50.846557\n",
       "1000  MIXED_USE_BUILDING  1475000  260.0  Bruxelles   4.351697  50.846557\n",
       "1000  MIXED_USE_BUILDING  1600000  300.0  Bruxelles   4.351697  50.846557\n",
       "1000     APARTMENT_BLOCK  1350000  400.0  Bruxelles   4.351697  50.846557\n",
       "1000  MIXED_USE_BUILDING  1500000  521.0  Bruxelles   4.351697  50.846557"
      ]
     },
     "execution_count": 34,
     "metadata": {},
     "output_type": "execute_result"
    }
   ],
   "source": [
    "df_backup.head()"
   ]
  },
  {
   "cell_type": "code",
   "execution_count": 35,
   "metadata": {},
   "outputs": [],
   "source": [
    "df = df_backup"
   ]
  },
  {
   "cell_type": "code",
   "execution_count": 36,
   "metadata": {},
   "outputs": [
    {
     "data": {
      "image/png": "[encoded data removed]",
      "text/plain": [
       "<Figure size 432x288 with 1 Axes>"
      ]
     },
     "metadata": {
      "needs_background": "light"
     },
     "output_type": "display_data"
    }
   ],
   "source": [
    "import pandas as pd \n",
    "from matplotlib import pyplot as plt \n",
    "\n",
    "ax = df_pc.plot.scatter(x='longitude', y='latitude', alpha=0.5)\n",
    "for i, txt in enumerate(df_pc.locality):\n",
    "    ax.annotate(txt, (df_pc.longitude.iat[i],df_pc.latitude.iat[i]))\n",
    "plt.show()\n"
   ]
  },
  {
   "cell_type": "code",
   "execution_count": 37,
   "metadata": {},
   "outputs": [
    {
     "data": {
      "text/html": [
       "<div>\n",
       "<style scoped>\n",
       "    .dataframe tbody tr th:only-of-type {\n",
       "        vertical-align: middle;\n",
       "    }\n",
       "\n",
       "    .dataframe tbody tr th {\n",
       "        vertical-align: top;\n",
       "    }\n",
       "\n",
       "    .dataframe thead th {\n",
       "        text-align: right;\n",
       "    }\n",
       "</style>\n",
       "<table border=\"1\" class=\"dataframe\">\n",
       "  <thead>\n",
       "    <tr style=\"text-align: right;\">\n",
       "      <th></th>\n",
       "      <th>property_subtype</th>\n",
       "      <th>price</th>\n",
       "      <th>area</th>\n",
       "      <th>locality</th>\n",
       "      <th>longitude</th>\n",
       "      <th>latitude</th>\n",
       "    </tr>\n",
       "  </thead>\n",
       "  <tbody>\n",
       "    <tr>\n",
       "      <th>1000</th>\n",
       "      <td>MIXED_USE_BUILDING</td>\n",
       "      <td>1395000</td>\n",
       "      <td>568.0</td>\n",
       "      <td>Bruxelles</td>\n",
       "      <td>4.351697</td>\n",
       "      <td>50.846557</td>\n",
       "    </tr>\n",
       "    <tr>\n",
       "      <th>1000</th>\n",
       "      <td>MIXED_USE_BUILDING</td>\n",
       "      <td>1475000</td>\n",
       "      <td>260.0</td>\n",
       "      <td>Bruxelles</td>\n",
       "      <td>4.351697</td>\n",
       "      <td>50.846557</td>\n",
       "    </tr>\n",
       "    <tr>\n",
       "      <th>1000</th>\n",
       "      <td>MIXED_USE_BUILDING</td>\n",
       "      <td>1600000</td>\n",
       "      <td>300.0</td>\n",
       "      <td>Bruxelles</td>\n",
       "      <td>4.351697</td>\n",
       "      <td>50.846557</td>\n",
       "    </tr>\n",
       "    <tr>\n",
       "      <th>1000</th>\n",
       "      <td>APARTMENT_BLOCK</td>\n",
       "      <td>1350000</td>\n",
       "      <td>400.0</td>\n",
       "      <td>Bruxelles</td>\n",
       "      <td>4.351697</td>\n",
       "      <td>50.846557</td>\n",
       "    </tr>\n",
       "    <tr>\n",
       "      <th>1000</th>\n",
       "      <td>MIXED_USE_BUILDING</td>\n",
       "      <td>1500000</td>\n",
       "      <td>521.0</td>\n",
       "      <td>Bruxelles</td>\n",
       "      <td>4.351697</td>\n",
       "      <td>50.846557</td>\n",
       "    </tr>\n",
       "  </tbody>\n",
       "</table>\n",
       "</div>"
      ],
      "text/plain": [
       "        property_subtype    price   area   locality  longitude   latitude\n",
       "1000  MIXED_USE_BUILDING  1395000  568.0  Bruxelles   4.351697  50.846557\n",
       "1000  MIXED_USE_BUILDING  1475000  260.0  Bruxelles   4.351697  50.846557\n",
       "1000  MIXED_USE_BUILDING  1600000  300.0  Bruxelles   4.351697  50.846557\n",
       "1000     APARTMENT_BLOCK  1350000  400.0  Bruxelles   4.351697  50.846557\n",
       "1000  MIXED_USE_BUILDING  1500000  521.0  Bruxelles   4.351697  50.846557"
      ]
     },
     "execution_count": 37,
     "metadata": {},
     "output_type": "execute_result"
    }
   ],
   "source": [
    "df.head()"
   ]
  },
  {
   "cell_type": "code",
   "execution_count": 38,
   "metadata": {},
   "outputs": [],
   "source": [
    "# Linear Regression\n",
    "\n",
    "from sklearn import model_selection\n",
    "from sklearn.linear_model import LinearRegression\n",
    "\n",
    "dataframe = df.drop(['property_subtype', 'locality'], axis=1, errors='ignore')"
   ]
  },
  {
   "cell_type": "code",
   "execution_count": 39,
   "metadata": {},
   "outputs": [
    {
     "data": {
      "text/html": [
       "<div>\n",
       "<style scoped>\n",
       "    .dataframe tbody tr th:only-of-type {\n",
       "        vertical-align: middle;\n",
       "    }\n",
       "\n",
       "    .dataframe tbody tr th {\n",
       "        vertical-align: top;\n",
       "    }\n",
       "\n",
       "    .dataframe thead th {\n",
       "        text-align: right;\n",
       "    }\n",
       "</style>\n",
       "<table border=\"1\" class=\"dataframe\">\n",
       "  <thead>\n",
       "    <tr style=\"text-align: right;\">\n",
       "      <th></th>\n",
       "      <th>price</th>\n",
       "      <th>area</th>\n",
       "      <th>longitude</th>\n",
       "      <th>latitude</th>\n",
       "    </tr>\n",
       "  </thead>\n",
       "  <tbody>\n",
       "    <tr>\n",
       "      <th>1000</th>\n",
       "      <td>1395000</td>\n",
       "      <td>568.0</td>\n",
       "      <td>4.351697</td>\n",
       "      <td>50.846557</td>\n",
       "    </tr>\n",
       "    <tr>\n",
       "      <th>1000</th>\n",
       "      <td>1475000</td>\n",
       "      <td>260.0</td>\n",
       "      <td>4.351697</td>\n",
       "      <td>50.846557</td>\n",
       "    </tr>\n",
       "    <tr>\n",
       "      <th>1000</th>\n",
       "      <td>1600000</td>\n",
       "      <td>300.0</td>\n",
       "      <td>4.351697</td>\n",
       "      <td>50.846557</td>\n",
       "    </tr>\n",
       "    <tr>\n",
       "      <th>1000</th>\n",
       "      <td>1350000</td>\n",
       "      <td>400.0</td>\n",
       "      <td>4.351697</td>\n",
       "      <td>50.846557</td>\n",
       "    </tr>\n",
       "    <tr>\n",
       "      <th>1000</th>\n",
       "      <td>1500000</td>\n",
       "      <td>521.0</td>\n",
       "      <td>4.351697</td>\n",
       "      <td>50.846557</td>\n",
       "    </tr>\n",
       "  </tbody>\n",
       "</table>\n",
       "</div>"
      ],
      "text/plain": [
       "        price   area  longitude   latitude\n",
       "1000  1395000  568.0   4.351697  50.846557\n",
       "1000  1475000  260.0   4.351697  50.846557\n",
       "1000  1600000  300.0   4.351697  50.846557\n",
       "1000  1350000  400.0   4.351697  50.846557\n",
       "1000  1500000  521.0   4.351697  50.846557"
      ]
     },
     "execution_count": 39,
     "metadata": {},
     "output_type": "execute_result"
    }
   ],
   "source": [
    "dataframe.head()"
   ]
  },
  {
   "cell_type": "code",
   "execution_count": 54,
   "metadata": {},
   "outputs": [],
   "source": [
    "predicted = dataframe['price']\n",
    "predictor = dataframe.loc[:, dataframe.columns == 'area']\n",
    "model = LinearRegression().fit(predictor, predicted)\n",
    "r_sq = model.score(predictor, predicted)"
   ]
  },
  {
   "cell_type": "code",
   "execution_count": 55,
   "metadata": {},
   "outputs": [
    {
     "data": {
      "text/plain": [
       "0.5329414841885775"
      ]
     },
     "execution_count": 55,
     "metadata": {},
     "output_type": "execute_result"
    }
   ],
   "source": [
    "r_sq"
   ]
  },
  {
   "cell_type": "code",
   "execution_count": 56,
   "metadata": {},
   "outputs": [
    {
     "data": {
      "text/plain": [
       "-7501.153385862475"
      ]
     },
     "execution_count": 56,
     "metadata": {},
     "output_type": "execute_result"
    }
   ],
   "source": [
    "model.intercept_"
   ]
  },
  {
   "cell_type": "code",
   "execution_count": 57,
   "metadata": {},
   "outputs": [
    {
     "data": {
      "text/plain": [
       "array([3595.34530609])"
      ]
     },
     "execution_count": 57,
     "metadata": {},
     "output_type": "execute_result"
    }
   ],
   "source": [
    "model.coef_"
   ]
  },
  {
   "cell_type": "code",
   "execution_count": 61,
   "metadata": {},
   "outputs": [],
   "source": [
    "y_pred = model.predict(predictor)"
   ]
  },
  {
   "cell_type": "code",
   "execution_count": 62,
   "metadata": {},
   "outputs": [
    {
     "data": {
      "text/plain": [
       "array([1907165.07331637,  852288.7371439 ,  989285.66391954, ...,\n",
       "        321816.36064649,  256742.82042807,  239618.20458111])"
      ]
     },
     "execution_count": 62,
     "metadata": {},
     "output_type": "execute_result"
    }
   ],
   "source": [
    "y_pred"
   ]
  },
  {
   "cell_type": "code",
   "execution_count": 63,
   "metadata": {},
   "outputs": [],
   "source": [
    "predicted = dataframe['price']\n",
    "predictor = dataframe.loc[:, dataframe.columns != 'price']\n",
    "model = LinearRegression().fit(predictor, predicted)\n",
    "r_sq = model.score(predictor, predicted)"
   ]
  },
  {
   "cell_type": "code",
   "execution_count": null,
   "metadata": {},
   "outputs": [],
   "source": []
  }
 ],
 "metadata": {
  "kernelspec": {
   "display_name": "Python 3",
   "language": "python",
   "name": "python3"
  },
  "language_info": {
   "codemirror_mode": {
    "name": "ipython",
    "version": 3
   },
   "file_extension": ".py",
   "mimetype": "text/x-python",
   "name": "python",
   "nbconvert_exporter": "python",
   "pygments_lexer": "ipython3",
   "version": "3.6.9"
  }
 },
 "nbformat": 4,
 "nbformat_minor": 2
}
