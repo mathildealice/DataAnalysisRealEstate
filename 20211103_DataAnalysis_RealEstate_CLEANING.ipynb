{
 "cells": [
  {
   "cell_type": "code",
   "execution_count": 2,
   "metadata": {},
   "outputs": [],
   "source": [
    "import pandas as pd\n",
    "pd.options.mode.chained_assignment = None \n",
    "#https://stackoverflow.com/questions/20625582/how-to-deal-with-settingwithcopywarning-in-pandas\n",
    "import numpy as np\n",
    "import re\n",
    "import matplotlib.pyplot as plt\n",
    "\n",
    "df = pd.read_csv('original_dataset.csv', low_memory = False, dtype = {'locality': str, 'postcode': str, 'property_subtype': str})\n",
    "raw_df = df"
   ]
  },
  {
   "cell_type": "code",
   "execution_count": 3,
   "metadata": {},
   "outputs": [],
   "source": [
    "df = df[['locality', 'postcode', 'property_subtype', 'price', 'rooms_number', 'area']]\n",
    "regex = \"(10|11|12)\\d{2}\"\n",
    "df = df[df.postcode.str.match(regex, na=False)|df.locality.str.match(regex, na=False)]"
   ]
  },
  {
   "cell_type": "code",
   "execution_count": 5,
   "metadata": {},
   "outputs": [],
   "source": [
    "df = df.drop(df[df['price'].isnull()].index)\n",
    "df = df.drop(df[df['area'].isnull()].index)\n",
    "\n",
    "df = df.drop(df[df['price'] == 'None'].index)\n",
    "df = df.drop(df[df['price'] == '@0'].index)\n",
    "df = df.drop(df[df['price'] == '1À000'].index)\n",
    "df = df.drop(df[df['price'] == '2À000'].index)\n",
    "df = df.drop(df[df['price'] == '3À000'].index)\n",
    "df = df.drop(df[df['price'] == '23456789'].index)\n",
    "\n",
    "df = df.drop(df[df['area'] == 'None'].index)\n",
    "df = df.drop(df[df['area'] == 'Not specified'].index)\n",
    "\n",
    "df = df.drop(df[df['locality'] == '1044'].index)\n",
    "df = df.drop(df[df['locality'] == '1212'].index)"
   ]
  },
  {
   "cell_type": "code",
   "execution_count": 6,
   "metadata": {},
   "outputs": [],
   "source": [
    "df['locality'] = df['locality'].str.upper()\n",
    "df['property_subtype'] = df['property_subtype'].str.upper()"
   ]
  },
  {
   "cell_type": "code",
   "execution_count": 7,
   "metadata": {},
   "outputs": [],
   "source": [
    "character_map = {\n",
    "    'É' : 'E',\n",
    "    '\\(' : '', \n",
    "    '\\)' : '', \n",
    "    '_':'-'\n",
    "}\n",
    "df.replace(character_map, inplace=True, regex=True)"
   ]
  },
  {
   "cell_type": "code",
   "execution_count": 8,
   "metadata": {},
   "outputs": [],
   "source": [
    "conversions = {\n",
    "    'FLAT-STUDIO':'FLAT',\n",
    "    'SERVICE-FLAT':'FLAT'\n",
    "}\n",
    "df['property_subtype'] = df['property_subtype'].map(conversions).fillna(df['property_subtype'])"
   ]
  },
  {
   "cell_type": "code",
   "execution_count": 12,
   "metadata": {},
   "outputs": [],
   "source": [
    "def extract_postcode(d): \n",
    "    return re.sub(\"((\\d{4}){0,1})(([A-Za-z- ]+[0-9]{0,2}){0,1})\", r'\\2',d)\n",
    "df['extracted_pc_from_loc'] = df[~df['locality'].isnull()]['locality'].apply(extract_postcode)\n",
    "df['extracted_pc_from_pc'] = df[~df['postcode'].isnull()]['postcode'].apply(extract_postcode)"
   ]
  },
  {
   "cell_type": "code",
   "execution_count": 13,
   "metadata": {},
   "outputs": [],
   "source": [
    "df['merged_postcode'] = df['extracted_pc_from_loc'].replace(np.nan, '') + df['extracted_pc_from_pc'].replace(np.nan, '')\n",
    "def unmerge_postcode(d): \n",
    "    return re.sub(\"(\\d{4}){0,1}(\\d{4})$\", r'\\2', d)\n",
    "df['unmerged_postcode'] = df[~df['merged_postcode'].isnull()]['merged_postcode'].apply(unmerge_postcode)"
   ]
  },
  {
   "cell_type": "code",
   "execution_count": 14,
   "metadata": {},
   "outputs": [],
   "source": [
    "df = df.drop(['locality', 'postcode', 'extracted_pc_from_loc', 'extracted_pc_from_pc', 'merged_postcode'], axis=1, errors='ignore')"
   ]
  },
  {
   "cell_type": "code",
   "execution_count": 15,
   "metadata": {},
   "outputs": [],
   "source": [
    "def clean_area(d): \n",
    "    return re.sub('^([0-9]+)( {0,}m{0,}²{0,})', r'\\1',d)\n",
    "df['area'] = df['area'].apply(clean_area)"
   ]
  },
  {
   "cell_type": "code",
   "execution_count": 16,
   "metadata": {},
   "outputs": [],
   "source": [
    "df['area'] = pd.to_numeric(df['area'])"
   ]
  },
  {
   "cell_type": "code",
   "execution_count": 17,
   "metadata": {},
   "outputs": [],
   "source": [
    "df = df.drop(df[df['area']>600].index)"
   ]
  },
  {
   "cell_type": "code",
   "execution_count": 18,
   "metadata": {},
   "outputs": [],
   "source": [
    "def clean_price(d): \n",
    "    return re.sub(\"^(€{0,})(([0-9\\,\\.])+)(€{0,})$\", r'\\2',d)\n",
    "df['price'] = df['price'].apply(clean_price)"
   ]
  },
  {
   "cell_type": "code",
   "execution_count": 19,
   "metadata": {},
   "outputs": [],
   "source": [
    "character_map = {\n",
    "    '\\.' : '', \n",
    "    '\\,' : ''\n",
    "}\n",
    "df.replace(character_map, inplace=True, regex=True)"
   ]
  },
  {
   "cell_type": "code",
   "execution_count": 20,
   "metadata": {},
   "outputs": [],
   "source": [
    "df['price'] = pd.to_numeric(df['price'])\n",
    "df['area'] = pd.to_numeric(df['area'])"
   ]
  },
  {
   "cell_type": "code",
   "execution_count": 21,
   "metadata": {},
   "outputs": [],
   "source": [
    "df = df.drop(df[df['price']==max(df['price'])].index)"
   ]
  },
  {
   "cell_type": "code",
   "execution_count": 22,
   "metadata": {},
   "outputs": [],
   "source": [
    "df['rooms_number'] = pd.to_numeric(df['rooms_number'], errors='coerce')"
   ]
  },
  {
   "cell_type": "code",
   "execution_count": 85,
   "metadata": {},
   "outputs": [],
   "source": [
    "df = df.drop(df[(df['property_subtype']!='APARTMENT-BLOCK')&(df['rooms_number']>10)].index)"
   ]
  },
  {
   "cell_type": "code",
   "execution_count": 90,
   "metadata": {},
   "outputs": [],
   "source": [
    "df.to_csv('transformed_dataset.csv', index=False)"
   ]
  },
  {
   "cell_type": "code",
   "execution_count": null,
   "metadata": {},
   "outputs": [],
   "source": []
  }
 ],
 "metadata": {
  "kernelspec": {
   "display_name": "Python 3",
   "language": "python",
   "name": "python3"
  },
  "language_info": {
   "codemirror_mode": {
    "name": "ipython",
    "version": 3
   },
   "file_extension": ".py",
   "mimetype": "text/x-python",
   "name": "python",
   "nbconvert_exporter": "python",
   "pygments_lexer": "ipython3",
   "version": "3.6.9"
  }
 },
 "nbformat": 4,
 "nbformat_minor": 2
}
